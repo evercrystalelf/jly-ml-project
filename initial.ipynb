{
 "cells": [
  {
   "cell_type": "code",
   "execution_count": 1,
   "id": "polar-roommate",
   "metadata": {},
   "outputs": [],
   "source": [
    "import pandas as pd"
   ]
  },
  {
   "cell_type": "code",
   "execution_count": 2,
   "id": "proof-office",
   "metadata": {},
   "outputs": [],
   "source": [
    "mi = pd.read_csv('./myocardial_infarction_complications_database.csv')"
   ]
  },
  {
   "cell_type": "code",
   "execution_count": 3,
   "id": "neural-breach",
   "metadata": {},
   "outputs": [],
   "source": [
    "features = mi.iloc[:, 0:112]\n",
    "\n",
    "outcomes = mi.iloc[:, 112:]"
   ]
  },
  {
   "cell_type": "code",
   "execution_count": 4,
   "id": "boxed-finding",
   "metadata": {},
   "outputs": [],
   "source": [
    "# Time dependent columns : First three are for pain relapse, second three for use\n",
    "# opioids in the ICU, last three for use of NSAIDs\n",
    "\n",
    "labels = ['R_AB_1_n', 'R_AB_2_n', 'R_AB_3_n', 'NA_R_1_n', 'NA_R_2_n',\n",
    "         'NA_R_3_n', 'NOT_NA_1_n', 'NOT_NA_2_n', 'NOT_NA_3_n']\n",
    "\n",
    "# Column labels of information gathered on second and third days, want to drop these\n",
    "day_one = [label for label in labels if '1' not in label]\n",
    "\n",
    "# Column labels for information gathered on third day, want to drop these\n",
    "day_two = [label for label in labels if '3' in label]\n",
    "\n",
    "# Admission, dropping all time dependent columns\n",
    "features_at_admission = features.drop(labels, axis=1)\n",
    "\n",
    "# End of day one, dropping columns for day 2 and 3\n",
    "features_at_day_one = features.drop(day_one, axis=1)\n",
    "\n",
    "# End of day two, dropping columns for day 3\n",
    "features_at_day_two = features.drop(day_two, axis =1)\n",
    "\n",
    "# The fourth time point at the end of day 3 would be all features stored in the\n",
    "# variable 'feature' in cell 3 line 1."
   ]
  }
 ],
 "metadata": {
  "kernelspec": {
   "display_name": "Python 3",
   "language": "python",
   "name": "python3"
  },
  "language_info": {
   "codemirror_mode": {
    "name": "ipython",
    "version": 3
   },
   "file_extension": ".py",
   "mimetype": "text/x-python",
   "name": "python",
   "nbconvert_exporter": "python",
   "pygments_lexer": "ipython3",
   "version": "3.8.8"
  }
 },
 "nbformat": 4,
 "nbformat_minor": 5
}
